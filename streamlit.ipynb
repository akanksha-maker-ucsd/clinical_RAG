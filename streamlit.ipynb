{
  "cells": [
    {
      "cell_type": "code",
      "execution_count": 111,
      "metadata": {
        "id": "O4PMxoB_pXZZ"
      },
      "outputs": [],
      "source": [
        "## 1. Installation and Setup"
      ]
    },
    {
      "cell_type": "code",
      "execution_count": 112,
      "metadata": {
        "colab": {
          "base_uri": "https://localhost:8080/"
        },
        "id": "WXBQHvhko8_q",
        "outputId": "261c4a44-44b8-434a-9ab7-4d1a804adf75"
      },
      "outputs": [
        {
          "name": "stdout",
          "output_type": "stream",
          "text": [
            "Overwriting app.py\n"
          ]
        }
      ],
      "source": [
        "%%writefile app.py\n",
        "import streamlit as st\n",
        "import os\n",
        "import faiss\n",
        "import torch\n",
        "import types\n",
        "torch._classes = types.SimpleNamespace()\n",
        "sys.modules['torch._classes'] = torch._classes\n",
        "import pandas as pd\n",
        "import numpy as np\n",
        "from transformers import AutoTokenizer, AutoModel, AutoModelForCausalLM\n",
        "from together import Together\n",
        "from typing import List, Dict, Tuple\n",
        "import re\n",
        "import json\n",
        "from google.oauth2 import service_account\n",
        "from googleapiclient.discovery import build\n",
        "from googleapiclient.http import MediaIoBaseDownload\n",
        "import pandas as pd\n",
        "import io\n"
      ]
    },
    {
      "cell_type": "code",
      "execution_count": 113,
      "metadata": {
        "colab": {
          "base_uri": "https://localhost:8080/"
        },
        "id": "HsD2D8JDo9l9",
        "outputId": "0e81fdad-d4ee-4110-8445-43e1960926c5"
      },
      "outputs": [
        {
          "name": "stdout",
          "output_type": "stream",
          "text": [
            "Appending to app.py\n"
          ]
        }
      ],
      "source": [
        "%%writefile -a app.py\n",
        "os.environ[\"TOGETHER_API_KEY\"] = st.secrets[\"TOGETHER_API_KEY\"]\n",
        "# os.environ[\"HUGGINGFACE_HUB_TOKEN\"] = st.secrets[\"HUGGINGFACE_HUB_TOKEN\"]\n",
        "# from huggingface_hub import login\n",
        "# login(token=os.environ[\"HUGGINGFACE_HUB_TOKEN\"])"
      ]
    },
    {
      "cell_type": "markdown",
      "metadata": {
        "id": "2Y7-aM6FpUqp"
      },
      "source": [
        "## 2. Data Loading and Preprocessing"
      ]
    },
    {
      "cell_type": "code",
      "execution_count": 114,
      "metadata": {
        "colab": {
          "base_uri": "https://localhost:8080/"
        },
        "id": "U6f6bluFpB_L",
        "outputId": "9714f99c-a71b-471e-a451-d628f61b2f44"
      },
      "outputs": [
        {
          "ename": "NameError",
          "evalue": "name 'st' is not defined",
          "output_type": "error",
          "traceback": [
            "\u001b[0;31m---------------------------------------------------------------------------\u001b[0m",
            "\u001b[0;31mNameError\u001b[0m                                 Traceback (most recent call last)",
            "Cell \u001b[0;32mIn[114], line 3\u001b[0m\n\u001b[1;32m      1\u001b[0m \u001b[38;5;66;03m# Auth\u001b[39;00m\n\u001b[1;32m      2\u001b[0m SCOPES \u001b[38;5;241m=\u001b[39m [\u001b[38;5;124m'\u001b[39m\u001b[38;5;124mhttps://www.googleapis.com/auth/drive.readonly\u001b[39m\u001b[38;5;124m'\u001b[39m]\n\u001b[0;32m----> 3\u001b[0m credentials_info \u001b[38;5;241m=\u001b[39m \u001b[43mst\u001b[49m\u001b[38;5;241m.\u001b[39msecrets[\u001b[38;5;124m\"\u001b[39m\u001b[38;5;124mGDRIVE_CREDENTIALS\u001b[39m\u001b[38;5;124m\"\u001b[39m]\n\u001b[1;32m      4\u001b[0m credentials \u001b[38;5;241m=\u001b[39m service_account\u001b[38;5;241m.\u001b[39mCredentials\u001b[38;5;241m.\u001b[39mfrom_service_account_info(\n\u001b[1;32m      5\u001b[0m     credentials_info, scopes\u001b[38;5;241m=\u001b[39mSCOPES\n\u001b[1;32m      6\u001b[0m )\n\u001b[1;32m      8\u001b[0m \u001b[38;5;66;03m# Build service\u001b[39;00m\n",
            "\u001b[0;31mNameError\u001b[0m: name 'st' is not defined"
          ]
        }
      ],
      "source": [
        "\n",
        "# Auth\n",
        "SCOPES = ['https://www.googleapis.com/auth/drive.readonly']\n",
        "credentials_info = st.secrets[\"GDRIVE_CREDENTIALS\"]\n",
        "credentials = service_account.Credentials.from_service_account_info(\n",
        "    credentials_info, scopes=SCOPES\n",
        ")\n",
        "\n",
        "# Build service\n",
        "service = build('drive', 'v3', credentials=credentials)\n",
        "\n",
        "# File ID of Google Sheet\n",
        "file_id = '1JJBW3fE8GZLVZQgPt1CS7HSYWeB2uqE8-p9xtIReIxU'\n",
        "\n",
        "# Export as CSV (Google Sheet must have at least one sheet)\n",
        "request = service.files().export(fileId=file_id, mimeType='text/csv')\n",
        "\n",
        "# Download exported content into BytesIO\n",
        "fh = io.BytesIO()\n",
        "downloader = MediaIoBaseDownload(fh, request)\n",
        "done = False\n",
        "while not done:\n",
        "    _, done = downloader.next_chunk()\n",
        "\n",
        "# Load into pandas DataFrame\n",
        "fh.seek(0)\n",
        "df = pd.read_csv(fh)"
      ]
    },
    {
      "cell_type": "code",
      "execution_count": null,
      "metadata": {
        "colab": {
          "base_uri": "https://localhost:8080/"
        },
        "id": "woymu7-JpIq7",
        "outputId": "fddcbf7c-9a1b-488a-9dc1-74e13f2939ad"
      },
      "outputs": [
        {
          "name": "stdout",
          "output_type": "stream",
          "text": [
            "Appending to app.py\n"
          ]
        }
      ],
      "source": [
        "%%writefile -a app.py\n",
        "# config\n",
        "BIOBERT_MODEL = \"emilyalsentzer/Bio_ClinicalBERT\"\n",
        "EMBED_DIM = 768  # BioBERT output dim\n",
        "# load models\n",
        "tokenizer_biobert = AutoTokenizer.from_pretrained(BIOBERT_MODEL)\n",
        "biobert = AutoModel.from_pretrained(BIOBERT_MODEL)"
      ]
    },
    {
      "cell_type": "markdown",
      "metadata": {
        "id": "ljKV5aJcpNGT"
      },
      "source": [
        "# 3. ClinicalBERT Embedding Generation"
      ]
    },
    {
      "cell_type": "code",
      "execution_count": null,
      "metadata": {
        "colab": {
          "base_uri": "https://localhost:8080/"
        },
        "id": "mCiaVFg3pMjG",
        "outputId": "218adb7b-b0de-42c2-ad45-64ec138941ed"
      },
      "outputs": [
        {
          "name": "stdout",
          "output_type": "stream",
          "text": [
            "Appending to app.py\n"
          ]
        }
      ],
      "source": [
        "%%writefile -a app.py\n",
        "def get_embedding(text: str) -> np.ndarray:\n",
        "    inputs = tokenizer_biobert(text, return_tensors=\"pt\", truncation=True, padding=True)\n",
        "    with torch.no_grad():\n",
        "        outputs = biobert(**inputs)\n",
        "    attention_mask = inputs['attention_mask']\n",
        "    last_hidden = outputs.last_hidden_state\n",
        "    mask = attention_mask.unsqueeze(-1).expand(last_hidden.size()).float()\n",
        "    masked_output = last_hidden * mask\n",
        "    mean_pooled = masked_output.sum(1) / mask.sum(1)\n",
        "    return mean_pooled.squeeze().cpu().numpy()\n"
      ]
    },
    {
      "cell_type": "markdown",
      "metadata": {
        "id": "eyFm1W-hpdIy"
      },
      "source": [
        "# 4. FAISS Index Building"
      ]
    },
    {
      "cell_type": "code",
      "execution_count": null,
      "metadata": {
        "colab": {
          "base_uri": "https://localhost:8080/"
        },
        "id": "vrvn2QsRpe_d",
        "outputId": "7b4f86e0-22a0-4585-ecca-84ce56a383e8"
      },
      "outputs": [
        {
          "name": "stdout",
          "output_type": "stream",
          "text": [
            "Appending to app.py\n"
          ]
        }
      ],
      "source": [
        "%%writefile -a app.py\n",
        "\n",
        "def build_faiss_index(embeddings: List[np.ndarray]) -> faiss.IndexFlatL2:  # Change to faiss.IndexFlat\n",
        "    \"\"\"\n",
        "    Builds a FAISS index using the provided embeddings.\n",
        "\n",
        "    Args:\n",
        "        embeddings: A list of NumPy arrays representing the embeddings.\n",
        "\n",
        "    Returns:\n",
        "        A FAISS index object (faiss.IndexFlat).\n",
        "    \"\"\"\n",
        "    dimension = embeddings[0].shape[0]  # Get dimensionality from embeddings\n",
        "    index = faiss.IndexFlat(dimension)  # Change to faiss.IndexFlat\n",
        "    index.add(np.vstack(embeddings))  # Add embeddings to the index\n",
        "    return index"
      ]
    },
    {
      "cell_type": "markdown",
      "metadata": {
        "id": "cGEQcbk_pg0e"
      },
      "source": [
        "## 5. Text Chunking\n",
        "Using Note Sections/Headers"
      ]
    },
    {
      "cell_type": "code",
      "execution_count": null,
      "metadata": {
        "colab": {
          "base_uri": "https://localhost:8080/"
        },
        "id": "RuULSKH1piyD",
        "outputId": "9b7fba9a-9710-4cb1-baef-1bd24c8036e7"
      },
      "outputs": [
        {
          "name": "stdout",
          "output_type": "stream",
          "text": [
            "Appending to app.py\n"
          ]
        }
      ],
      "source": [
        "%%writefile -a app.py\n",
        "def chunk_text(input_text: str, charttime, max_chars: int = 500) -> List[Tuple[str, str]]:\n",
        "    \"\"\"\n",
        "    Chunks a clinical text into smaller pieces based on sections and a maximum\n",
        "    character limit.\n",
        "\n",
        "    Args:\n",
        "        input_text: The clinical text to be chunked.\n",
        "        max_chars: The maximum number of characters allowed in each sub-chunk.\n",
        "\n",
        "    Returns:\n",
        "        A list of (section, chunk text, date) tuples.\n",
        "    \"\"\"\n",
        "\n",
        "    section_headers = [\n",
        "        \"Service:\", \"Allergies:\",\n",
        "        \"Chief Complaint:\", \"Major Surgical or Invasive Procedure:\", \"History of Present Illness:\",\n",
        "        \"Past Medical History:\", \"Social History:\", \"Family History:\", \"Physical Exam:\",\n",
        "        \"PHYSICAL EXAM ON ADMISSION:\", \"PHYSICAL EXAM ON DISCHARGE:\", \"Pertinent Results:\",\n",
        "        \"Brief Hospital Course:\", \"Medications on Admission:\", \"Discharge Medications:\",\n",
        "        \"Discharge Disposition:\", \"Facility:\", \"Discharge Diagnosis:\", \"Discharge Condition:\",\n",
        "        \"Discharge Instructions:\", \"Followup Instructions:\"\n",
        "    ]\n",
        "\n",
        "    pattern = re.compile(rf\"^({'|'.join(map(re.escape, section_headers))})\", re.MULTILINE)\n",
        "    matches = list(pattern.finditer(input_text))\n",
        "\n",
        "    chunks = []\n",
        "    for i in range(len(matches)):\n",
        "        start = matches[i].start()\n",
        "        end = matches[i + 1].start() if i + 1 < len(matches) else len(input_text)\n",
        "        header = matches[i].group(1)\n",
        "        content = input_text[start:end].strip()\n",
        "\n",
        "        sentences = re.split(r'(?<!\\w\\.\\w.)(?<![A-Z][a-z]\\.)(?<=\\.|\\?)\\s', content)\n",
        "        current_chunk = \"\"\n",
        "        for sentence in sentences:\n",
        "            if len(current_chunk) + len(sentence) <= max_chars:\n",
        "                current_chunk += sentence\n",
        "            else:\n",
        "                chunks.append((header, current_chunk.strip(), charttime))\n",
        "                current_chunk = sentence\n",
        "    chunks.append((header, current_chunk.strip(), charttime))\n",
        "\n",
        "    return chunks"
      ]
    },
    {
      "cell_type": "markdown",
      "metadata": {
        "id": "A2IGK_sPpsd0"
      },
      "source": [
        "chunk structure:\n",
        "```\n",
        "all_chunks = {\n",
        "  # patient  : list of their note chunks + metadata\n",
        "  subject_id : [(section, chunk text, time)]\n",
        "  \n",
        "}\n",
        "```"
      ]
    },
    {
      "cell_type": "markdown",
      "metadata": {
        "id": "D1mHdUPtpv2Z"
      },
      "source": [
        "## 7. Querying with FAISS"
      ]
    },
    {
      "cell_type": "code",
      "execution_count": null,
      "metadata": {
        "colab": {
          "base_uri": "https://localhost:8080/"
        },
        "id": "YesE_rxDpzdd",
        "outputId": "0ff44481-4cf5-455f-b1b7-14d0aa443e41"
      },
      "outputs": [
        {
          "name": "stdout",
          "output_type": "stream",
          "text": [
            "Appending to app.py\n"
          ]
        }
      ],
      "source": [
        "%%writefile -a app.py\n",
        "# Constants\n",
        "SCORE_THRESHOLD = 50   # Adjust based on empirical observation\n",
        "MAX_CHUNKS = 15\n",
        "\n",
        "def search_chunks_with_faiss(all_chunks, subject_id, query, top_k=30):\n",
        "    \"\"\"\n",
        "    Searches FAISS and filters chunks by score and count.\n",
        "    Assumes all_chunks[subject_id] = list of tuples (text, date).\n",
        "    \"\"\"\n",
        "    all_texts_with_dates = all_chunks.get(subject_id, [])\n",
        "    if not all_texts_with_dates:\n",
        "        print(f\"No chunks found for subject ID: {subject_id}\")\n",
        "        return []\n",
        "\n",
        "    # Build index using only the chunk text part of the tuples\n",
        "    all_texts = [text for section, text, date in all_texts_with_dates]\n",
        "\n",
        "    # embed all chunks\n",
        "    embeddings = [get_embedding(text) for text in all_texts]\n",
        "    index = build_faiss_index(embeddings) # build FAISS index from embeddings\n",
        "\n",
        "    # Search\n",
        "    query_emb = get_embedding(query) #embed query and use to search\n",
        "    D, I = index.search(query_emb.reshape(1, -1), top_k)\n",
        "\n",
        "    # Filter by score and cap to max chunks, include date\n",
        "    results = []\n",
        "    for i, score in zip(I[0], D[0]):\n",
        "        if score <= SCORE_THRESHOLD:\n",
        "            # Get section, text, and date from the original list using i\n",
        "            section, text, date = all_texts_with_dates[i]\n",
        "            results.append((text, section, date, score))\n",
        "            if len(results) >= MAX_CHUNKS:\n",
        "                break\n",
        "    return results\n"
      ]
    },
    {
      "cell_type": "markdown",
      "metadata": {
        "id": "guRhgP5op4dG"
      },
      "source": [
        "## 8. Response Generation with LLaMA\n",
        " + display in streamlit app"
      ]
    },
    {
      "cell_type": "code",
      "execution_count": null,
      "metadata": {
        "colab": {
          "base_uri": "https://localhost:8080/"
        },
        "id": "WxTJEW9up4Lh",
        "outputId": "6600bbd0-7388-4feb-f9c9-0805ff3a18ad"
      },
      "outputs": [
        {
          "name": "stdout",
          "output_type": "stream",
          "text": [
            "Appending to app.py\n"
          ]
        }
      ],
      "source": [
        "%%writefile -a app.py\n",
        "os.environ[\"TOGETHER_API_KEY\"] = os.environ[\"TOGETHER_API_KEY\"]\n",
        "client = Together(api_key=os.environ[\"TOGETHER_API_KEY\"])\n",
        "MODEL_NAME = \"meta-llama/Llama-4-Scout-17B-16E-Instruct\""
      ]
    },
    {
      "cell_type": "code",
      "execution_count": null,
      "metadata": {
        "colab": {
          "base_uri": "https://localhost:8080/"
        },
        "id": "By3Dxh8sqNvX",
        "outputId": "25a7a4d4-753b-419a-ef1f-1edc3ee35743"
      },
      "outputs": [
        {
          "name": "stdout",
          "output_type": "stream",
          "text": [
            "Appending to app.py\n"
          ]
        }
      ],
      "source": [
        "%%writefile -a app.py\n",
        "def generate_response_from_chunks(query: str, retrieved_chunks: List[tuple]) -> str:\n",
        "    \"\"\"\n",
        "    Generates a clinically relevant, faithful, and date-aware summary using retrieved context.\n",
        "    \"\"\"\n",
        "    # Format each chunk as a date-tagged clinical note\n",
        "    context = \"\\n\".join([f\"[{section} {date}] {text.strip()}\" for text, section, date, score in retrieved_chunks])\n",
        "\n",
        "    # Optimized prompt\n",
        "    prompt = f\"\"\"You are a clinical assistant helping summarize a patient's medical history for a physician during clinical assessment.\n",
        "\n",
        "Patient Timeline (each entry includes a section, date, and note):\n",
        "{context}\n",
        "\n",
        "Query: \"{query}\"\n",
        "\n",
        "Instructions:\n",
        "- Extract only relevant and factual information from the timeline.\n",
        "- Summarize findings related to the query in clinical terms.\n",
        "- Associate each finding with its date.\n",
        "- Do not hallucinate or infer conditions that are not explicitly mentioned.\n",
        "- Present the response in a clear, concise manner suitable for use in clinical decision-making.\n",
        "\n",
        "Answer:\"\"\"\n",
        "    # Print the length of the prompt\n",
        "    print(\"== PROMPT:==\")\n",
        "    print(prompt)\n",
        "\n",
        "    # Print the length of the prompt\n",
        "    print(f\"Prompt length: {len(prompt)}\")\n",
        "\n",
        "    response = client.chat.completions.create(\n",
        "        model=MODEL_NAME,\n",
        "        messages=[{\"role\": \"user\", \"content\": prompt}],\n",
        "    )\n",
        "    return response.choices[0].message.content"
      ]
    },
    {
      "cell_type": "code",
      "execution_count": null,
      "metadata": {
        "colab": {
          "base_uri": "https://localhost:8080/"
        },
        "id": "ZsGSce7oqBhs",
        "outputId": "437c893c-bc73-41f8-e5b7-a1df44763a84"
      },
      "outputs": [
        {
          "name": "stdout",
          "output_type": "stream",
          "text": [
            "Appending to app.py\n"
          ]
        }
      ],
      "source": [
        "%%writefile -a app.py\n",
        "\n",
        "# Streamlit app structure\n",
        "st.set_page_config(page_title=\"Clinical Chatbot\", layout=\"centered\")\n",
        "st.title(\"🩺 Clinical Chatbot Assistant\")\n",
        "\n",
        "# Subject ID input (fixed or from dropdown in future)\n",
        "subject_id_to_search = st.number_input(\"Patient Subject ID\", value=10001217)\n",
        "\n",
        "# Initialize session state\n",
        "if \"messages\" not in st.session_state:\n",
        "    st.session_state.messages = []\n",
        "\n",
        "# Initialize chunk dictionary only once\n",
        "if \"all_chunks\" not in st.session_state:\n",
        "    all_chunks = {}\n",
        "    for index, row in df.iterrows():\n",
        "        subject_id = row['subject_id']\n",
        "        if subject_id == subject_id_to_search:\n",
        "            note = row['text']\n",
        "            charttime = row['charttime']\n",
        "            chunks = chunk_text(note, charttime)\n",
        "            all_chunks[subject_id] = chunks\n",
        "    st.session_state.all_chunks = all_chunks\n",
        "\n",
        "# Display chat history\n",
        "for msg in st.session_state.messages:\n",
        "    with st.chat_message(msg[\"role\"]):\n",
        "        st.markdown(msg[\"content\"])\n",
        "\n",
        "# Chat input box\n",
        "user_query = st.chat_input(\"Enter your clinical question...\")\n",
        "\n",
        "if user_query:\n",
        "    # Display user message\n",
        "    st.session_state.messages.append({\"role\": \"user\", \"content\": user_query})\n",
        "    with st.chat_message(\"user\"):\n",
        "        st.markdown(user_query)\n",
        "\n",
        "    # Process user query\n",
        "    with st.spinner(\"Searching notes and generating response...\"):\n",
        "        retrieved_chunks = search_chunks_with_faiss(\n",
        "            st.session_state.all_chunks,\n",
        "            subject_id_to_search,\n",
        "            user_query\n",
        "        )\n",
        "        response = generate_response_from_chunks(user_query, retrieved_chunks)\n",
        "\n",
        "    # Display assistant response\n",
        "    st.session_state.messages.append({\"role\": \"assistant\", \"content\": response})\n",
        "    with st.chat_message(\"assistant\"):\n",
        "        st.markdown(response)"
      ]
    }
  ],
  "metadata": {
    "colab": {
      "provenance": []
    },
    "kernelspec": {
      "display_name": "Python 3",
      "name": "python3"
    },
    "language_info": {
      "name": "python"
    }
  },
  "nbformat": 4,
  "nbformat_minor": 0
}
